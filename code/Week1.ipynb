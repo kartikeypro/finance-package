{
 "cells": [
  {
   "cell_type": "code",
   "execution_count": 1,
   "id": "913ebf93",
   "metadata": {
    "scrolled": true
   },
   "outputs": [],
   "source": [
    "import pandas as pd\n",
    "import numpy as np\n",
    "import matplotlib.pyplot as plt\n",
    "import seaborn as sn"
   ]
  },
  {
   "cell_type": "code",
   "execution_count": 2,
   "id": "abfe58d5",
   "metadata": {},
   "outputs": [],
   "source": [
    "%load_ext autoreload\n",
    "%autoreload 2"
   ]
  },
  {
   "cell_type": "code",
   "execution_count": 3,
   "id": "994643a8",
   "metadata": {},
   "outputs": [],
   "source": [
    "import finance_kit as fk"
   ]
  },
  {
   "cell_type": "code",
   "execution_count": 4,
   "id": "e77a16b5",
   "metadata": {},
   "outputs": [],
   "source": [
    "rets = fk.call_data()"
   ]
  },
  {
   "cell_type": "code",
   "execution_count": 5,
   "id": "c587048c",
   "metadata": {},
   "outputs": [
    {
     "data": {
      "text/plain": [
       "-0.5527349978713652"
      ]
     },
     "execution_count": 5,
     "metadata": {},
     "output_type": "execute_result"
    }
   ],
   "source": [
    "data = fk.drawdown(rets[\"high cap\"])\n",
    "data[\"1975\":][\"Drawdown\"].min()"
   ]
  },
  {
   "cell_type": "code",
   "execution_count": 112,
   "id": "4cf98fa4",
   "metadata": {},
   "outputs": [],
   "source": [
    "data = pd.read_csv(\"../Data/edhec-hedgefundindices.csv\",index_col=0,header=0,parse_dates=True,na_values=-99.99)\n",
    "#data.index = pd.to_datetime(data.index,format=\"%Y%m\").to_period(\"M\")\n",
    "#data.head()"
   ]
  },
  {
   "cell_type": "code",
   "execution_count": 113,
   "id": "084536ff",
   "metadata": {},
   "outputs": [
    {
     "data": {
      "text/html": [
       "<div>\n",
       "<style scoped>\n",
       "    .dataframe tbody tr th:only-of-type {\n",
       "        vertical-align: middle;\n",
       "    }\n",
       "\n",
       "    .dataframe tbody tr th {\n",
       "        vertical-align: top;\n",
       "    }\n",
       "\n",
       "    .dataframe thead th {\n",
       "        text-align: right;\n",
       "    }\n",
       "</style>\n",
       "<table border=\"1\" class=\"dataframe\">\n",
       "  <thead>\n",
       "    <tr style=\"text-align: right;\">\n",
       "      <th></th>\n",
       "      <th>mean</th>\n",
       "      <th>median</th>\n",
       "      <th>negatively-skewed?</th>\n",
       "    </tr>\n",
       "  </thead>\n",
       "  <tbody>\n",
       "    <tr>\n",
       "      <th>Convertible Arbitrage</th>\n",
       "      <td>0.550837</td>\n",
       "      <td>0.65</td>\n",
       "      <td>False</td>\n",
       "    </tr>\n",
       "    <tr>\n",
       "      <th>CTA Global</th>\n",
       "      <td>0.407376</td>\n",
       "      <td>0.14</td>\n",
       "      <td>True</td>\n",
       "    </tr>\n",
       "    <tr>\n",
       "      <th>Distressed Securities</th>\n",
       "      <td>0.694601</td>\n",
       "      <td>0.89</td>\n",
       "      <td>False</td>\n",
       "    </tr>\n",
       "    <tr>\n",
       "      <th>Emerging Markets</th>\n",
       "      <td>0.625323</td>\n",
       "      <td>0.96</td>\n",
       "      <td>False</td>\n",
       "    </tr>\n",
       "    <tr>\n",
       "      <th>Equity Market Neutral</th>\n",
       "      <td>0.449810</td>\n",
       "      <td>0.51</td>\n",
       "      <td>False</td>\n",
       "    </tr>\n",
       "    <tr>\n",
       "      <th>Event Driven</th>\n",
       "      <td>0.634449</td>\n",
       "      <td>0.84</td>\n",
       "      <td>False</td>\n",
       "    </tr>\n",
       "    <tr>\n",
       "      <th>Fixed Income Arbitrage</th>\n",
       "      <td>0.436502</td>\n",
       "      <td>0.55</td>\n",
       "      <td>False</td>\n",
       "    </tr>\n",
       "    <tr>\n",
       "      <th>Global Macro</th>\n",
       "      <td>0.540304</td>\n",
       "      <td>0.38</td>\n",
       "      <td>True</td>\n",
       "    </tr>\n",
       "    <tr>\n",
       "      <th>Long/Short Equity</th>\n",
       "      <td>0.633080</td>\n",
       "      <td>0.79</td>\n",
       "      <td>False</td>\n",
       "    </tr>\n",
       "    <tr>\n",
       "      <th>Merger Arbitrage</th>\n",
       "      <td>0.535589</td>\n",
       "      <td>0.60</td>\n",
       "      <td>False</td>\n",
       "    </tr>\n",
       "    <tr>\n",
       "      <th>Relative Value</th>\n",
       "      <td>0.579202</td>\n",
       "      <td>0.67</td>\n",
       "      <td>False</td>\n",
       "    </tr>\n",
       "    <tr>\n",
       "      <th>Short Selling</th>\n",
       "      <td>-0.170076</td>\n",
       "      <td>-0.53</td>\n",
       "      <td>True</td>\n",
       "    </tr>\n",
       "    <tr>\n",
       "      <th>Funds Of Funds</th>\n",
       "      <td>0.426236</td>\n",
       "      <td>0.52</td>\n",
       "      <td>False</td>\n",
       "    </tr>\n",
       "  </tbody>\n",
       "</table>\n",
       "</div>"
      ],
      "text/plain": [
       "                            mean  median  negatively-skewed?\n",
       "Convertible Arbitrage   0.550837    0.65               False\n",
       "CTA Global              0.407376    0.14                True\n",
       "Distressed Securities   0.694601    0.89               False\n",
       "Emerging Markets        0.625323    0.96               False\n",
       "Equity Market Neutral   0.449810    0.51               False\n",
       "Event Driven            0.634449    0.84               False\n",
       "Fixed Income Arbitrage  0.436502    0.55               False\n",
       "Global Macro            0.540304    0.38                True\n",
       "Long/Short Equity       0.633080    0.79               False\n",
       "Merger Arbitrage        0.535589    0.60               False\n",
       "Relative Value          0.579202    0.67               False\n",
       "Short Selling          -0.170076   -0.53                True\n",
       "Funds Of Funds          0.426236    0.52               False"
      ]
     },
     "execution_count": 113,
     "metadata": {},
     "output_type": "execute_result"
    }
   ],
   "source": [
    "skew_data = pd.concat([data.mean(),data.median(),data.mean()>data.median()],axis=\"columns\")\n",
    "skew_data.columns = [\"mean\",\"median\",\"negatively-skewed?\"]\n",
    "skew_data"
   ]
  },
  {
   "cell_type": "code",
   "execution_count": 114,
   "id": "1df21f2e",
   "metadata": {
    "scrolled": false
   },
   "outputs": [],
   "source": [
    "skew = data.aggregate(fk.skewness).sort_values()"
   ]
  },
  {
   "cell_type": "code",
   "execution_count": 115,
   "id": "1d74bf32",
   "metadata": {},
   "outputs": [],
   "source": [
    "kurt = data.aggregate(fk.kurtosis).sort_values()"
   ]
  },
  {
   "cell_type": "code",
   "execution_count": 116,
   "id": "02ec02bf",
   "metadata": {},
   "outputs": [
    {
     "data": {
      "text/html": [
       "<div>\n",
       "<style scoped>\n",
       "    .dataframe tbody tr th:only-of-type {\n",
       "        vertical-align: middle;\n",
       "    }\n",
       "\n",
       "    .dataframe tbody tr th {\n",
       "        vertical-align: top;\n",
       "    }\n",
       "\n",
       "    .dataframe thead th {\n",
       "        text-align: right;\n",
       "    }\n",
       "</style>\n",
       "<table border=\"1\" class=\"dataframe\">\n",
       "  <thead>\n",
       "    <tr style=\"text-align: right;\">\n",
       "      <th></th>\n",
       "      <th>kurtosis</th>\n",
       "      <th>skewness</th>\n",
       "    </tr>\n",
       "  </thead>\n",
       "  <tbody>\n",
       "    <tr>\n",
       "      <th>CTA Global</th>\n",
       "      <td>2.930547</td>\n",
       "      <td>0.172709</td>\n",
       "    </tr>\n",
       "    <tr>\n",
       "      <th>Long/Short Equity</th>\n",
       "      <td>4.489556</td>\n",
       "      <td>-0.388003</td>\n",
       "    </tr>\n",
       "    <tr>\n",
       "      <th>Global Macro</th>\n",
       "      <td>5.698099</td>\n",
       "      <td>0.977321</td>\n",
       "    </tr>\n",
       "    <tr>\n",
       "      <th>Short Selling</th>\n",
       "      <td>6.071337</td>\n",
       "      <td>0.763599</td>\n",
       "    </tr>\n",
       "    <tr>\n",
       "      <th>Funds Of Funds</th>\n",
       "      <td>7.016490</td>\n",
       "      <td>-0.359722</td>\n",
       "    </tr>\n",
       "    <tr>\n",
       "      <th>Distressed Securities</th>\n",
       "      <td>7.830098</td>\n",
       "      <td>-1.293430</td>\n",
       "    </tr>\n",
       "    <tr>\n",
       "      <th>Event Driven</th>\n",
       "      <td>7.974835</td>\n",
       "      <td>-1.401124</td>\n",
       "    </tr>\n",
       "    <tr>\n",
       "      <th>Merger Arbitrage</th>\n",
       "      <td>8.672620</td>\n",
       "      <td>-1.312562</td>\n",
       "    </tr>\n",
       "    <tr>\n",
       "      <th>Emerging Markets</th>\n",
       "      <td>9.180574</td>\n",
       "      <td>-1.160418</td>\n",
       "    </tr>\n",
       "    <tr>\n",
       "      <th>Relative Value</th>\n",
       "      <td>12.029207</td>\n",
       "      <td>-1.805125</td>\n",
       "    </tr>\n",
       "    <tr>\n",
       "      <th>Equity Market Neutral</th>\n",
       "      <td>17.087865</td>\n",
       "      <td>-2.112330</td>\n",
       "    </tr>\n",
       "    <tr>\n",
       "      <th>Convertible Arbitrage</th>\n",
       "      <td>23.104130</td>\n",
       "      <td>-2.624552</td>\n",
       "    </tr>\n",
       "    <tr>\n",
       "      <th>Fixed Income Arbitrage</th>\n",
       "      <td>29.615694</td>\n",
       "      <td>-3.917868</td>\n",
       "    </tr>\n",
       "  </tbody>\n",
       "</table>\n",
       "</div>"
      ],
      "text/plain": [
       "                         kurtosis  skewness\n",
       "CTA Global               2.930547  0.172709\n",
       "Long/Short Equity        4.489556 -0.388003\n",
       "Global Macro             5.698099  0.977321\n",
       "Short Selling            6.071337  0.763599\n",
       "Funds Of Funds           7.016490 -0.359722\n",
       "Distressed Securities    7.830098 -1.293430\n",
       "Event Driven             7.974835 -1.401124\n",
       "Merger Arbitrage         8.672620 -1.312562\n",
       "Emerging Markets         9.180574 -1.160418\n",
       "Relative Value          12.029207 -1.805125\n",
       "Equity Market Neutral   17.087865 -2.112330\n",
       "Convertible Arbitrage   23.104130 -2.624552\n",
       "Fixed Income Arbitrage  29.615694 -3.917868"
      ]
     },
     "execution_count": 116,
     "metadata": {},
     "output_type": "execute_result"
    }
   ],
   "source": [
    "joint_data = pd.concat([kurt, skew],axis=\"columns\")\n",
    "joint_data.columns = [\"kurtosis\",\"skewness\"]\n",
    "joint_data"
   ]
  },
  {
   "cell_type": "code",
   "execution_count": 117,
   "id": "2136667e",
   "metadata": {},
   "outputs": [
    {
     "data": {
      "text/html": [
       "<div>\n",
       "<style scoped>\n",
       "    .dataframe tbody tr th:only-of-type {\n",
       "        vertical-align: middle;\n",
       "    }\n",
       "\n",
       "    .dataframe tbody tr th {\n",
       "        vertical-align: top;\n",
       "    }\n",
       "\n",
       "    .dataframe thead th {\n",
       "        text-align: right;\n",
       "    }\n",
       "</style>\n",
       "<table border=\"1\" class=\"dataframe\">\n",
       "  <thead>\n",
       "    <tr style=\"text-align: right;\">\n",
       "      <th></th>\n",
       "      <th>Convertible Arbitrage</th>\n",
       "      <th>CTA Global</th>\n",
       "      <th>Distressed Securities</th>\n",
       "      <th>Emerging Markets</th>\n",
       "      <th>Equity Market Neutral</th>\n",
       "      <th>Event Driven</th>\n",
       "      <th>Fixed Income Arbitrage</th>\n",
       "      <th>Global Macro</th>\n",
       "      <th>Long/Short Equity</th>\n",
       "      <th>Merger Arbitrage</th>\n",
       "      <th>Relative Value</th>\n",
       "      <th>Short Selling</th>\n",
       "      <th>Funds Of Funds</th>\n",
       "    </tr>\n",
       "  </thead>\n",
       "  <tbody>\n",
       "    <tr>\n",
       "      <th>0</th>\n",
       "      <td>4812.70313</td>\n",
       "      <td>1.346753</td>\n",
       "      <td>336.209308</td>\n",
       "      <td>487.870938</td>\n",
       "      <td>2413.246539</td>\n",
       "      <td>364.939023</td>\n",
       "      <td>8576.081066</td>\n",
       "      <td>124.720604</td>\n",
       "      <td>3.212278e+01</td>\n",
       "      <td>437.303521</td>\n",
       "      <td>1056.16586</td>\n",
       "      <td>132.372745</td>\n",
       "      <td>187.274537</td>\n",
       "    </tr>\n",
       "    <tr>\n",
       "      <th>1</th>\n",
       "      <td>0.00000</td>\n",
       "      <td>0.509984</td>\n",
       "      <td>0.000000</td>\n",
       "      <td>0.000000</td>\n",
       "      <td>0.000000</td>\n",
       "      <td>0.000000</td>\n",
       "      <td>0.000000</td>\n",
       "      <td>0.000000</td>\n",
       "      <td>1.058344e-07</td>\n",
       "      <td>0.000000</td>\n",
       "      <td>0.00000</td>\n",
       "      <td>0.000000</td>\n",
       "      <td>0.000000</td>\n",
       "    </tr>\n",
       "  </tbody>\n",
       "</table>\n",
       "</div>"
      ],
      "text/plain": [
       "   Convertible Arbitrage  CTA Global  Distressed Securities  Emerging Markets  \\\n",
       "0             4812.70313    1.346753             336.209308        487.870938   \n",
       "1                0.00000    0.509984               0.000000          0.000000   \n",
       "\n",
       "   Equity Market Neutral  Event Driven  Fixed Income Arbitrage  Global Macro  \\\n",
       "0            2413.246539    364.939023             8576.081066    124.720604   \n",
       "1               0.000000      0.000000                0.000000      0.000000   \n",
       "\n",
       "   Long/Short Equity  Merger Arbitrage  Relative Value  Short Selling  \\\n",
       "0       3.212278e+01        437.303521      1056.16586     132.372745   \n",
       "1       1.058344e-07          0.000000         0.00000       0.000000   \n",
       "\n",
       "   Funds Of Funds  \n",
       "0      187.274537  \n",
       "1        0.000000  "
      ]
     },
     "execution_count": 117,
     "metadata": {},
     "output_type": "execute_result"
    }
   ],
   "source": [
    "from scipy import stats\n",
    "data.aggregate(stats.jarque_bera)"
   ]
  },
  {
   "cell_type": "code",
   "execution_count": 124,
   "id": "190ee3ff",
   "metadata": {},
   "outputs": [
    {
     "data": {
      "text/plain": [
       "'Equity Market Neutral'"
      ]
     },
     "execution_count": 124,
     "metadata": {},
     "output_type": "execute_result"
    }
   ],
   "source": [
    "data[data>0][\"2009\":].std().idxmin()"
   ]
  },
  {
   "cell_type": "code",
   "execution_count": 12,
   "id": "286cb8e3",
   "metadata": {},
   "outputs": [
    {
     "data": {
      "text/plain": [
       "Convertible Arbitrage     False\n",
       "CTA Global                 True\n",
       "Distressed Securities     False\n",
       "Emerging Markets          False\n",
       "Equity Market Neutral     False\n",
       "Event Driven              False\n",
       "Fixed Income Arbitrage    False\n",
       "Global Macro              False\n",
       "Long/Short Equity         False\n",
       "Merger Arbitrage          False\n",
       "Relative Value            False\n",
       "Short Selling             False\n",
       "Funds Of Funds            False\n",
       "dtype: bool"
      ]
     },
     "execution_count": 12,
     "metadata": {},
     "output_type": "execute_result"
    }
   ],
   "source": [
    "data.aggregate(fk.is_normal)"
   ]
  },
  {
   "cell_type": "code",
   "execution_count": 49,
   "id": "dd71f672",
   "metadata": {},
   "outputs": [
    {
     "data": {
      "text/html": [
       "<div>\n",
       "<style scoped>\n",
       "    .dataframe tbody tr th:only-of-type {\n",
       "        vertical-align: middle;\n",
       "    }\n",
       "\n",
       "    .dataframe tbody tr th {\n",
       "        vertical-align: top;\n",
       "    }\n",
       "\n",
       "    .dataframe thead th {\n",
       "        text-align: right;\n",
       "    }\n",
       "</style>\n",
       "<table border=\"1\" class=\"dataframe\">\n",
       "  <thead>\n",
       "    <tr style=\"text-align: right;\">\n",
       "      <th></th>\n",
       "      <th>0</th>\n",
       "    </tr>\n",
       "  </thead>\n",
       "  <tbody>\n",
       "    <tr>\n",
       "      <th>Convertible Arbitrage</th>\n",
       "      <td>-2.169082</td>\n",
       "    </tr>\n",
       "    <tr>\n",
       "      <th>CTA Global</th>\n",
       "      <td>-3.423512</td>\n",
       "    </tr>\n",
       "    <tr>\n",
       "      <th>Distressed Securities</th>\n",
       "      <td>-2.103167</td>\n",
       "    </tr>\n",
       "    <tr>\n",
       "      <th>Emerging Markets</th>\n",
       "      <td>-4.716437</td>\n",
       "    </tr>\n",
       "    <tr>\n",
       "      <th>Equity Market Neutral</th>\n",
       "      <td>-0.884956</td>\n",
       "    </tr>\n",
       "    <tr>\n",
       "      <th>Event Driven</th>\n",
       "      <td>-2.114377</td>\n",
       "    </tr>\n",
       "    <tr>\n",
       "      <th>Fixed Income Arbitrage</th>\n",
       "      <td>-1.457877</td>\n",
       "    </tr>\n",
       "    <tr>\n",
       "      <th>Global Macro</th>\n",
       "      <td>-1.876650</td>\n",
       "    </tr>\n",
       "    <tr>\n",
       "      <th>Long/Short Equity</th>\n",
       "      <td>-2.639673</td>\n",
       "    </tr>\n",
       "    <tr>\n",
       "      <th>Merger Arbitrage</th>\n",
       "      <td>-1.043547</td>\n",
       "    </tr>\n",
       "    <tr>\n",
       "      <th>Relative Value</th>\n",
       "      <td>-1.306126</td>\n",
       "    </tr>\n",
       "    <tr>\n",
       "      <th>Short Selling</th>\n",
       "      <td>-8.008618</td>\n",
       "    </tr>\n",
       "    <tr>\n",
       "      <th>Funds Of Funds</th>\n",
       "      <td>-2.129236</td>\n",
       "    </tr>\n",
       "  </tbody>\n",
       "</table>\n",
       "</div>"
      ],
      "text/plain": [
       "                               0\n",
       "Convertible Arbitrage  -2.169082\n",
       "CTA Global             -3.423512\n",
       "Distressed Securities  -2.103167\n",
       "Emerging Markets       -4.716437\n",
       "Equity Market Neutral  -0.884956\n",
       "Event Driven           -2.114377\n",
       "Fixed Income Arbitrage -1.457877\n",
       "Global Macro           -1.876650\n",
       "Long/Short Equity      -2.639673\n",
       "Merger Arbitrage       -1.043547\n",
       "Relative Value         -1.306126\n",
       "Short Selling          -8.008618\n",
       "Funds Of Funds         -2.129236"
      ]
     },
     "execution_count": 49,
     "metadata": {},
     "output_type": "execute_result"
    }
   ],
   "source": [
    "pd.DataFrame([var(data[i],kind=\"normal\") for i in data.columns],data.columns)"
   ]
  },
  {
   "cell_type": "code",
   "execution_count": 52,
   "id": "44036036",
   "metadata": {},
   "outputs": [],
   "source": [
    "data = pd.read_csv(\"../Data/Portfolios_Formed_on_ME_monthly_EW.csv\",\n",
    "            na_values=-99.99,parse_dates=True,index_col=0)"
   ]
  },
  {
   "cell_type": "code",
   "execution_count": 56,
   "id": "024adef1",
   "metadata": {},
   "outputs": [],
   "source": [
    "data = data[[\"Lo 20\",\"Hi 20\"]]"
   ]
  },
  {
   "cell_type": "code",
   "execution_count": 58,
   "id": "59b17b8a",
   "metadata": {},
   "outputs": [],
   "source": [
    "data.index = pd.to_datetime(data.index,format=\"%Y%m\").to_period(\"M\")"
   ]
  },
  {
   "cell_type": "code",
   "execution_count": 60,
   "id": "b70d322e",
   "metadata": {},
   "outputs": [],
   "source": [
    "data /=100"
   ]
  },
  {
   "cell_type": "code",
   "execution_count": 63,
   "id": "75c3cfdf",
   "metadata": {},
   "outputs": [],
   "source": [
    "return_data = data+1"
   ]
  },
  {
   "cell_type": "code",
   "execution_count": 93,
   "id": "03f257f0",
   "metadata": {},
   "outputs": [
    {
     "data": {
      "text/plain": [
       "0.07084377579322765"
      ]
     },
     "execution_count": 93,
     "metadata": {},
     "output_type": "execute_result"
    }
   ],
   "source": [
    "np.power(return_data[\"1999\":\"2016\"].cumprod()[\"Hi 20\"].iloc[-1],1/17)-1"
   ]
  },
  {
   "cell_type": "code",
   "execution_count": 90,
   "id": "4d4e7715",
   "metadata": {},
   "outputs": [
    {
     "data": {
      "text/plain": [
       "0.16992195186643247"
      ]
     },
     "execution_count": 90,
     "metadata": {},
     "output_type": "execute_result"
    }
   ],
   "source": [
    "data[\"Hi 20\"][\"1999\":\"2016\"].std()*np.sqrt(12)"
   ]
  },
  {
   "cell_type": "code",
   "execution_count": 111,
   "id": "151862a2",
   "metadata": {},
   "outputs": [
    {
     "name": "stdout",
     "output_type": "stream",
     "text": [
      "0.5527349978713653 2009-02\n"
     ]
    }
   ],
   "source": [
    "m = -fk.drawdown(pd.Series(data[\"Hi 20\"][\"1999\":\"2016\"]))[\"Drawdown\"]\n",
    "print(m.max(),m.idxmax())"
   ]
  },
  {
   "cell_type": "code",
   "execution_count": 102,
   "id": "8bf6c95a",
   "metadata": {},
   "outputs": [
    {
     "data": {
      "text/plain": [
       "1999-01    0.1114\n",
       "1999-02   -0.0399\n",
       "1999-03   -0.0308\n",
       "1999-04    0.0824\n",
       "1999-05    0.0435\n",
       "            ...  \n",
       "2016-08    0.0320\n",
       "2016-09    0.0341\n",
       "2016-10   -0.0702\n",
       "2016-11    0.0896\n",
       "2016-12    0.0233\n",
       "Freq: M, Name: Lo 20, Length: 216, dtype: float64"
      ]
     },
     "execution_count": 102,
     "metadata": {},
     "output_type": "execute_result"
    }
   ],
   "source": []
  },
  {
   "cell_type": "code",
   "execution_count": null,
   "id": "8b8c86be",
   "metadata": {},
   "outputs": [],
   "source": []
  }
 ],
 "metadata": {
  "kernelspec": {
   "display_name": "Python 3",
   "language": "python",
   "name": "python3"
  },
  "language_info": {
   "codemirror_mode": {
    "name": "ipython",
    "version": 3
   },
   "file_extension": ".py",
   "mimetype": "text/x-python",
   "name": "python",
   "nbconvert_exporter": "python",
   "pygments_lexer": "ipython3",
   "version": "3.8.8"
  }
 },
 "nbformat": 4,
 "nbformat_minor": 5
}
